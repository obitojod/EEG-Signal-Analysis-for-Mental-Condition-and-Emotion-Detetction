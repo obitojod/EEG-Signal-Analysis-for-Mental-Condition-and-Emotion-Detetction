{
 "cells": [
  {
   "cell_type": "code",
   "execution_count": 1,
   "id": "7b7b4112-843c-4213-8c47-b186534b1e2e",
   "metadata": {},
   "outputs": [],
   "source": [
    "from glob import glob\n",
    "import os\n",
    "import mne\n",
    "import numpy as np\n",
    "import pandas as pd\n",
    "import matplotlib.pyplot as plt\n",
    "from joblib import load"
   ]
  },
  {
   "cell_type": "code",
   "execution_count": 2,
   "id": "b6a4ee39-f61a-44d7-9938-2cc2304bb263",
   "metadata": {},
   "outputs": [],
   "source": [
    "# Load the model from the h5 file\n",
    "loaded_model = load('trained_model.h5')"
   ]
  },
  {
   "cell_type": "code",
   "execution_count": 3,
   "id": "b97bda08-bdb1-43ca-b8af-86c1e9d95d5f",
   "metadata": {},
   "outputs": [],
   "source": [
    "import mne\n",
    "import numpy as np\n",
    "from scipy import stats\n",
    "\n",
    "def extract_features(file_path):\n",
    "    # Load EEG data from the file\n",
    "    data = mne.io.read_raw_edf(file_path, preload=True)\n",
    "    data.set_eeg_reference()\n",
    "    data.filter(l_freq=0.5, h_freq=45)\n",
    "    \n",
    "    # Create fixed-length epochs\n",
    "    epochs = mne.make_fixed_length_epochs(data, duration=5, overlap=1)\n",
    "    \n",
    "    # Get data from epochs\n",
    "    epoch_data = epochs.get_data()\n",
    "    \n",
    "    # Define feature extraction functions\n",
    "    def mean(data):\n",
    "        return np.mean(data, axis=-1)\n",
    "\n",
    "    def std(data):\n",
    "        return np.std(data, axis=-1)\n",
    "\n",
    "    def ptp(data):\n",
    "        return np.ptp(data, axis=-1)\n",
    "\n",
    "    def var(data):\n",
    "        return np.var(data, axis=-1)\n",
    "\n",
    "    def minim(data):\n",
    "        return np.min(data, axis=-1)\n",
    "\n",
    "    def maxim(data):\n",
    "        return np.max(data, axis=-1)\n",
    "\n",
    "    def argminim(data):\n",
    "        return np.argmin(data, axis=-1)\n",
    "\n",
    "    def argmaxim(data):\n",
    "        return np.argmax(data, axis=-1)\n",
    "\n",
    "    def mean_square(data):\n",
    "        return np.mean(data**2, axis=-1)\n",
    "\n",
    "    def rms(data): #root mean square\n",
    "        return np.sqrt(np.mean(data**2, axis=-1))\n",
    "\n",
    "    def abs_diffs_signal(data):\n",
    "        return np.sum(np.abs(np.diff(data, axis=-1)), axis=-1)\n",
    "\n",
    "    def skewness(data):\n",
    "        return stats.skew(data, axis=-1)\n",
    "\n",
    "    def kurtosis(data):\n",
    "        return stats.kurtosis(data, axis=-1)\n",
    "\n",
    "    # Concatenate features\n",
    "    features = np.concatenate((\n",
    "        mean(epoch_data),\n",
    "        std(epoch_data),\n",
    "        ptp(epoch_data),\n",
    "        var(epoch_data),\n",
    "        minim(epoch_data),\n",
    "        maxim(epoch_data),\n",
    "        argminim(epoch_data),\n",
    "        argmaxim(epoch_data),\n",
    "        mean_square(epoch_data),\n",
    "        rms(epoch_data),\n",
    "        abs_diffs_signal(epoch_data),\n",
    "        skewness(epoch_data),\n",
    "        kurtosis(epoch_data)\n",
    "    ), axis=-1)\n",
    "\n",
    "    return features\n",
    "\n",
    "def predict_mental_disorder_from_eeg(file_path):\n",
    "    # Extract features from the EEG file\n",
    "    features = extract_features(file_path)\n",
    "    \n",
    "    # Use the best estimator from GridSearchCV\n",
    "    best_estimator = model.best_estimator_\n",
    "    \n",
    "    # Predict labels for the input features\n",
    "    predictions = best_estimator.predict(features)\n",
    "\n",
    "    # Map predictions to human-readable labels\n",
    "    prediction_label = 'Healthy' if predictions[0] == 0 else 'Schizophrenia'\n",
    "\n",
    "    return prediction_label\n",
    "\n",
    "def final_pred(input):\n",
    "    predicted_label = predict_mental_disorder_from_eeg(input)\n",
    "    print(\"Predicted label:\", predicted_label)\n",
    "# Example usage:\n",
    "# predicted_label = predict_mental_disorder_from_eeg('data\\s06.edf')\n",
    "# print(\"Predicted label:\", predicted_label)\n",
    "\n"
   ]
  },
  {
   "cell_type": "code",
   "execution_count": 6,
   "id": "aeddad47-511c-4682-8e5f-e14e976d7ddd",
   "metadata": {},
   "outputs": [
    {
     "name": "stdout",
     "output_type": "stream",
     "text": [
      "Extracting EDF parameters from C:\\Users\\Viraj Wadke\\Downloads\\data\\s09.edf...\n",
      "EDF file detected\n"
     ]
    },
    {
     "ename": "FileNotFoundError",
     "evalue": "[Errno 2] No such file or directory: 'C:\\\\Users\\\\Viraj Wadke\\\\Downloads\\\\data\\\\s09.edf'",
     "output_type": "error",
     "traceback": [
      "\u001b[1;31m---------------------------------------------------------------------------\u001b[0m",
      "\u001b[1;31mFileNotFoundError\u001b[0m                         Traceback (most recent call last)",
      "Cell \u001b[1;32mIn[6], line 1\u001b[0m\n\u001b[1;32m----> 1\u001b[0m final_pred(\u001b[38;5;124m'\u001b[39m\u001b[38;5;124mdata//s09.edf\u001b[39m\u001b[38;5;124m'\u001b[39m)\n",
      "Cell \u001b[1;32mIn[3], line 92\u001b[0m, in \u001b[0;36mfinal_pred\u001b[1;34m(input)\u001b[0m\n\u001b[0;32m     91\u001b[0m \u001b[38;5;28;01mdef\u001b[39;00m \u001b[38;5;21mfinal_pred\u001b[39m(\u001b[38;5;28minput\u001b[39m):\n\u001b[1;32m---> 92\u001b[0m     predicted_label \u001b[38;5;241m=\u001b[39m predict_mental_disorder_from_eeg(\u001b[38;5;28minput\u001b[39m)\n\u001b[0;32m     93\u001b[0m     \u001b[38;5;28mprint\u001b[39m(\u001b[38;5;124m\"\u001b[39m\u001b[38;5;124mPredicted label:\u001b[39m\u001b[38;5;124m\"\u001b[39m, predicted_label)\n",
      "Cell \u001b[1;32mIn[3], line 78\u001b[0m, in \u001b[0;36mpredict_mental_disorder_from_eeg\u001b[1;34m(file_path)\u001b[0m\n\u001b[0;32m     76\u001b[0m \u001b[38;5;28;01mdef\u001b[39;00m \u001b[38;5;21mpredict_mental_disorder_from_eeg\u001b[39m(file_path):\n\u001b[0;32m     77\u001b[0m     \u001b[38;5;66;03m# Extract features from the EEG file\u001b[39;00m\n\u001b[1;32m---> 78\u001b[0m     features \u001b[38;5;241m=\u001b[39m extract_features(file_path)\n\u001b[0;32m     80\u001b[0m     \u001b[38;5;66;03m# Use the best estimator from GridSearchCV\u001b[39;00m\n\u001b[0;32m     81\u001b[0m     best_estimator \u001b[38;5;241m=\u001b[39m model\u001b[38;5;241m.\u001b[39mbest_estimator_\n",
      "Cell \u001b[1;32mIn[3], line 7\u001b[0m, in \u001b[0;36mextract_features\u001b[1;34m(file_path)\u001b[0m\n\u001b[0;32m      5\u001b[0m \u001b[38;5;28;01mdef\u001b[39;00m \u001b[38;5;21mextract_features\u001b[39m(file_path):\n\u001b[0;32m      6\u001b[0m     \u001b[38;5;66;03m# Load EEG data from the file\u001b[39;00m\n\u001b[1;32m----> 7\u001b[0m     data \u001b[38;5;241m=\u001b[39m mne\u001b[38;5;241m.\u001b[39mio\u001b[38;5;241m.\u001b[39mread_raw_edf(file_path, preload\u001b[38;5;241m=\u001b[39m\u001b[38;5;28;01mTrue\u001b[39;00m)\n\u001b[0;32m      8\u001b[0m     data\u001b[38;5;241m.\u001b[39mset_eeg_reference()\n\u001b[0;32m      9\u001b[0m     data\u001b[38;5;241m.\u001b[39mfilter(l_freq\u001b[38;5;241m=\u001b[39m\u001b[38;5;241m0.5\u001b[39m, h_freq\u001b[38;5;241m=\u001b[39m\u001b[38;5;241m45\u001b[39m)\n",
      "File \u001b[1;32mC:\\Users\\Viraj\\anaconda3\\Lib\\site-packages\\mne\\io\\edf\\edf.py:1675\u001b[0m, in \u001b[0;36mread_raw_edf\u001b[1;34m(input_fname, eog, misc, stim_channel, exclude, infer_types, include, preload, units, encoding, verbose)\u001b[0m\n\u001b[0;32m   1673\u001b[0m \u001b[38;5;28;01mif\u001b[39;00m ext \u001b[38;5;241m!=\u001b[39m \u001b[38;5;124m\"\u001b[39m\u001b[38;5;124medf\u001b[39m\u001b[38;5;124m\"\u001b[39m:\n\u001b[0;32m   1674\u001b[0m     \u001b[38;5;28;01mraise\u001b[39;00m \u001b[38;5;167;01mNotImplementedError\u001b[39;00m(\u001b[38;5;124mf\u001b[39m\u001b[38;5;124m\"\u001b[39m\u001b[38;5;124mOnly EDF files are supported, got \u001b[39m\u001b[38;5;132;01m{\u001b[39;00mext\u001b[38;5;132;01m}\u001b[39;00m\u001b[38;5;124m.\u001b[39m\u001b[38;5;124m\"\u001b[39m)\n\u001b[1;32m-> 1675\u001b[0m \u001b[38;5;28;01mreturn\u001b[39;00m RawEDF(\n\u001b[0;32m   1676\u001b[0m     input_fname\u001b[38;5;241m=\u001b[39minput_fname,\n\u001b[0;32m   1677\u001b[0m     eog\u001b[38;5;241m=\u001b[39meog,\n\u001b[0;32m   1678\u001b[0m     misc\u001b[38;5;241m=\u001b[39mmisc,\n\u001b[0;32m   1679\u001b[0m     stim_channel\u001b[38;5;241m=\u001b[39mstim_channel,\n\u001b[0;32m   1680\u001b[0m     exclude\u001b[38;5;241m=\u001b[39mexclude,\n\u001b[0;32m   1681\u001b[0m     infer_types\u001b[38;5;241m=\u001b[39minfer_types,\n\u001b[0;32m   1682\u001b[0m     preload\u001b[38;5;241m=\u001b[39mpreload,\n\u001b[0;32m   1683\u001b[0m     include\u001b[38;5;241m=\u001b[39minclude,\n\u001b[0;32m   1684\u001b[0m     units\u001b[38;5;241m=\u001b[39munits,\n\u001b[0;32m   1685\u001b[0m     encoding\u001b[38;5;241m=\u001b[39mencoding,\n\u001b[0;32m   1686\u001b[0m     verbose\u001b[38;5;241m=\u001b[39mverbose,\n\u001b[0;32m   1687\u001b[0m )\n",
      "File \u001b[1;32m<decorator-gen-179>:12\u001b[0m, in \u001b[0;36m__init__\u001b[1;34m(self, input_fname, eog, misc, stim_channel, exclude, infer_types, preload, include, units, encoding, verbose)\u001b[0m\n",
      "File \u001b[1;32mC:\\Users\\Viraj\\anaconda3\\Lib\\site-packages\\mne\\io\\edf\\edf.py:155\u001b[0m, in \u001b[0;36mRawEDF.__init__\u001b[1;34m(self, input_fname, eog, misc, stim_channel, exclude, infer_types, preload, include, units, encoding, verbose)\u001b[0m\n\u001b[0;32m    153\u001b[0m logger\u001b[38;5;241m.\u001b[39minfo(\u001b[38;5;124m\"\u001b[39m\u001b[38;5;124mExtracting EDF parameters from \u001b[39m\u001b[38;5;132;01m{}\u001b[39;00m\u001b[38;5;124m...\u001b[39m\u001b[38;5;124m\"\u001b[39m\u001b[38;5;241m.\u001b[39mformat(input_fname))\n\u001b[0;32m    154\u001b[0m input_fname \u001b[38;5;241m=\u001b[39m os\u001b[38;5;241m.\u001b[39mpath\u001b[38;5;241m.\u001b[39mabspath(input_fname)\n\u001b[1;32m--> 155\u001b[0m info, edf_info, orig_units \u001b[38;5;241m=\u001b[39m _get_info(\n\u001b[0;32m    156\u001b[0m     input_fname, stim_channel, eog, misc, exclude, infer_types, preload, include\n\u001b[0;32m    157\u001b[0m )\n\u001b[0;32m    158\u001b[0m logger\u001b[38;5;241m.\u001b[39minfo(\u001b[38;5;124m\"\u001b[39m\u001b[38;5;124mCreating raw.info structure...\u001b[39m\u001b[38;5;124m\"\u001b[39m)\n\u001b[0;32m    160\u001b[0m _validate_type(units, (\u001b[38;5;28mstr\u001b[39m, \u001b[38;5;28;01mNone\u001b[39;00m, \u001b[38;5;28mdict\u001b[39m), \u001b[38;5;124m\"\u001b[39m\u001b[38;5;124munits\u001b[39m\u001b[38;5;124m\"\u001b[39m)\n",
      "File \u001b[1;32mC:\\Users\\Viraj\\anaconda3\\Lib\\site-packages\\mne\\io\\edf\\edf.py:521\u001b[0m, in \u001b[0;36m_get_info\u001b[1;34m(fname, stim_channel, eog, misc, exclude, infer_types, preload, include)\u001b[0m\n\u001b[0;32m    518\u001b[0m eog \u001b[38;5;241m=\u001b[39m eog \u001b[38;5;28;01mif\u001b[39;00m eog \u001b[38;5;129;01mis\u001b[39;00m \u001b[38;5;129;01mnot\u001b[39;00m \u001b[38;5;28;01mNone\u001b[39;00m \u001b[38;5;28;01melse\u001b[39;00m []\n\u001b[0;32m    519\u001b[0m misc \u001b[38;5;241m=\u001b[39m misc \u001b[38;5;28;01mif\u001b[39;00m misc \u001b[38;5;129;01mis\u001b[39;00m \u001b[38;5;129;01mnot\u001b[39;00m \u001b[38;5;28;01mNone\u001b[39;00m \u001b[38;5;28;01melse\u001b[39;00m []\n\u001b[1;32m--> 521\u001b[0m edf_info, orig_units \u001b[38;5;241m=\u001b[39m _read_header(fname, exclude, infer_types, include)\n\u001b[0;32m    523\u001b[0m \u001b[38;5;66;03m# XXX: `tal_ch_names` to pass to `_check_stim_channel` should be computed\u001b[39;00m\n\u001b[0;32m    524\u001b[0m \u001b[38;5;66;03m#      from `edf_info['ch_names']` and `edf_info['tal_idx']` but 'tal_idx'\u001b[39;00m\n\u001b[0;32m    525\u001b[0m \u001b[38;5;66;03m#      contains stim channels that are not TAL.\u001b[39;00m\n\u001b[0;32m    526\u001b[0m stim_channel_idxs, _ \u001b[38;5;241m=\u001b[39m _check_stim_channel(stim_channel, edf_info[\u001b[38;5;124m\"\u001b[39m\u001b[38;5;124mch_names\u001b[39m\u001b[38;5;124m\"\u001b[39m])\n",
      "File \u001b[1;32mC:\\Users\\Viraj\\anaconda3\\Lib\\site-packages\\mne\\io\\edf\\edf.py:505\u001b[0m, in \u001b[0;36m_read_header\u001b[1;34m(fname, exclude, infer_types, include)\u001b[0m\n\u001b[0;32m    503\u001b[0m logger\u001b[38;5;241m.\u001b[39minfo(\u001b[38;5;124m\"\u001b[39m\u001b[38;5;132;01m%s\u001b[39;00m\u001b[38;5;124m file detected\u001b[39m\u001b[38;5;124m\"\u001b[39m \u001b[38;5;241m%\u001b[39m ext\u001b[38;5;241m.\u001b[39mupper())\n\u001b[0;32m    504\u001b[0m \u001b[38;5;28;01mif\u001b[39;00m ext \u001b[38;5;129;01min\u001b[39;00m (\u001b[38;5;124m\"\u001b[39m\u001b[38;5;124mbdf\u001b[39m\u001b[38;5;124m\"\u001b[39m, \u001b[38;5;124m\"\u001b[39m\u001b[38;5;124medf\u001b[39m\u001b[38;5;124m\"\u001b[39m):\n\u001b[1;32m--> 505\u001b[0m     \u001b[38;5;28;01mreturn\u001b[39;00m _read_edf_header(fname, exclude, infer_types, include)\n\u001b[0;32m    506\u001b[0m \u001b[38;5;28;01melif\u001b[39;00m ext \u001b[38;5;241m==\u001b[39m \u001b[38;5;124m\"\u001b[39m\u001b[38;5;124mgdf\u001b[39m\u001b[38;5;124m\"\u001b[39m:\n\u001b[0;32m    507\u001b[0m     \u001b[38;5;28;01mreturn\u001b[39;00m _read_gdf_header(fname, exclude, include), \u001b[38;5;28;01mNone\u001b[39;00m\n",
      "File \u001b[1;32mC:\\Users\\Viraj\\anaconda3\\Lib\\site-packages\\mne\\io\\edf\\edf.py:796\u001b[0m, in \u001b[0;36m_read_edf_header\u001b[1;34m(fname, exclude, infer_types, include)\u001b[0m\n\u001b[0;32m    793\u001b[0m \u001b[38;5;250m\u001b[39m\u001b[38;5;124;03m\"\"\"Read header information from EDF+ or BDF file.\"\"\"\u001b[39;00m\n\u001b[0;32m    794\u001b[0m edf_info \u001b[38;5;241m=\u001b[39m {\u001b[38;5;124m\"\u001b[39m\u001b[38;5;124mevents\u001b[39m\u001b[38;5;124m\"\u001b[39m: []}\n\u001b[1;32m--> 796\u001b[0m \u001b[38;5;28;01mwith\u001b[39;00m \u001b[38;5;28mopen\u001b[39m(fname, \u001b[38;5;124m\"\u001b[39m\u001b[38;5;124mrb\u001b[39m\u001b[38;5;124m\"\u001b[39m) \u001b[38;5;28;01mas\u001b[39;00m fid:\n\u001b[0;32m    797\u001b[0m     fid\u001b[38;5;241m.\u001b[39mread(\u001b[38;5;241m8\u001b[39m)  \u001b[38;5;66;03m# version (unused here)\u001b[39;00m\n\u001b[0;32m    799\u001b[0m     \u001b[38;5;66;03m# patient ID\u001b[39;00m\n",
      "\u001b[1;31mFileNotFoundError\u001b[0m: [Errno 2] No such file or directory: 'C:\\\\Users\\\\Viraj Wadke\\\\Downloads\\\\data\\\\s09.edf'"
     ]
    }
   ],
   "source": [
    "final_pred('data\\\\s09.edf')"
   ]
  },
  {
   "cell_type": "code",
   "execution_count": null,
   "id": "73e1a80c-352d-47b2-b890-5bdfb463e114",
   "metadata": {},
   "outputs": [],
   "source": []
  },
  {
   "cell_type": "code",
   "execution_count": null,
   "id": "90db7719-331f-47a2-9df8-a4fb2af284f7",
   "metadata": {},
   "outputs": [],
   "source": []
  }
 ],
 "metadata": {
  "kernelspec": {
   "display_name": "Python 3 (ipykernel)",
   "language": "python",
   "name": "python3"
  },
  "language_info": {
   "codemirror_mode": {
    "name": "ipython",
    "version": 3
   },
   "file_extension": ".py",
   "mimetype": "text/x-python",
   "name": "python",
   "nbconvert_exporter": "python",
   "pygments_lexer": "ipython3",
   "version": "3.11.5"
  }
 },
 "nbformat": 4,
 "nbformat_minor": 5
}
