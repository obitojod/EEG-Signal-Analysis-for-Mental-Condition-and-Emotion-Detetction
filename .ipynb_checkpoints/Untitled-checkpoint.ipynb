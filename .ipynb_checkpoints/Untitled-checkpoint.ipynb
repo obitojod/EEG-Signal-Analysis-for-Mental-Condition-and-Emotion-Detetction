{
 "cells": [
  {
   "cell_type": "code",
   "execution_count": 26,
   "id": "1b7e2b60-1e21-4cf7-805d-62493820dac8",
   "metadata": {},
   "outputs": [],
   "source": [
    "from glob import glob\n",
    "import os\n",
    "import mne\n",
    "import numpy as np\n",
    "import pandas as pd\n",
    "import matplotlib.pyplot as plt"
   ]
  },
  {
   "cell_type": "code",
   "execution_count": 27,
   "id": "6c956beb-de1e-44c2-8788-7bb408bbe5d2",
   "metadata": {},
   "outputs": [],
   "source": [
    "file_path= glob('data/*.edf')"
   ]
  },
  {
   "cell_type": "code",
   "execution_count": 28,
   "id": "35f8305a-6c80-421f-8b59-6151ba22e112",
   "metadata": {},
   "outputs": [
    {
     "data": {
      "text/plain": [
       "28"
      ]
     },
     "execution_count": 28,
     "metadata": {},
     "output_type": "execute_result"
    }
   ],
   "source": [
    "len(file_path)"
   ]
  },
  {
   "cell_type": "code",
   "execution_count": 29,
   "id": "98c6b624-c25a-4497-beae-897944f3edab",
   "metadata": {},
   "outputs": [
    {
     "data": {
      "text/plain": [
       "'data\\\\h01.edf'"
      ]
     },
     "execution_count": 29,
     "metadata": {},
     "output_type": "execute_result"
    }
   ],
   "source": [
    "file_path[0]"
   ]
  },
  {
   "cell_type": "code",
   "execution_count": 30,
   "id": "997fdaf0-2caa-4da6-b3d8-bd767adbc4a7",
   "metadata": {},
   "outputs": [
    {
     "name": "stdout",
     "output_type": "stream",
     "text": [
      "14 14\n"
     ]
    }
   ],
   "source": [
    "healthy=[i for i in file_path if 'h' in i.split('\\\\')[1] ]\n",
    "patient=[i for i in file_path if 's' in i.split('\\\\')[1] ]\n",
    "print(len(healthy),len(patient))"
   ]
  },
  {
   "cell_type": "code",
   "execution_count": 31,
   "id": "82d071f7-d83f-43d7-b50d-bafe2a0fec51",
   "metadata": {},
   "outputs": [],
   "source": [
    "def read_data(file_path): \n",
    "    data=mne.io.read_raw_edf(file_path, preload=True)\n",
    "    data.set_eeg_reference() \n",
    "    data.filter(l_freq=0.5,h_freq=45)\n",
    "    epochs=mne.make_fixed_length_epochs(data, duration=5, overlap=1)\n",
    "    array= epochs.get_data()\n",
    "    \n",
    "    return array"
   ]
  },
  {
   "cell_type": "code",
   "execution_count": 32,
   "id": "dac036ac-8a9c-45d8-88f1-9ff3aa2e36a4",
   "metadata": {},
   "outputs": [
    {
     "name": "stdout",
     "output_type": "stream",
     "text": [
      "Extracting EDF parameters from C:\\Users\\Viraj Wadke\\Desktop\\Projects\\minie_project_eeg\\data\\h01.edf...\n",
      "EDF file detected\n",
      "Setting channel info structure...\n",
      "Creating raw.info structure...\n",
      "Reading 0 ... 231249  =      0.000 ...   924.996 secs...\n",
      "EEG channel type selected for re-referencing\n",
      "Applying average reference.\n",
      "Applying a custom ('EEG',) reference.\n",
      "Filtering raw data in 1 contiguous segment\n",
      "Setting up band-pass filter from 0.5 - 45 Hz\n",
      "\n",
      "FIR filter parameters\n",
      "---------------------\n",
      "Designing a one-pass, zero-phase, non-causal bandpass filter:\n",
      "- Windowed time-domain design (firwin) method\n",
      "- Hamming window with 0.0194 passband ripple and 53 dB stopband attenuation\n",
      "- Lower passband edge: 0.50\n",
      "- Lower transition bandwidth: 0.50 Hz (-6 dB cutoff frequency: 0.25 Hz)\n",
      "- Upper passband edge: 45.00 Hz\n",
      "- Upper transition bandwidth: 11.25 Hz (-6 dB cutoff frequency: 50.62 Hz)\n",
      "- Filter length: 1651 samples (6.604 s)\n",
      "\n",
      "Not setting metadata\n"
     ]
    },
    {
     "name": "stderr",
     "output_type": "stream",
     "text": [
      "[Parallel(n_jobs=1)]: Using backend SequentialBackend with 1 concurrent workers.\n",
      "[Parallel(n_jobs=1)]: Done   1 out of   1 | elapsed:    0.0s remaining:    0.0s\n",
      "[Parallel(n_jobs=1)]: Done   2 out of   2 | elapsed:    0.0s remaining:    0.0s\n",
      "[Parallel(n_jobs=1)]: Done   3 out of   3 | elapsed:    0.0s remaining:    0.0s\n",
      "[Parallel(n_jobs=1)]: Done   4 out of   4 | elapsed:    0.0s remaining:    0.0s\n",
      "[Parallel(n_jobs=1)]: Done  19 out of  19 | elapsed:    0.1s finished\n"
     ]
    },
    {
     "name": "stdout",
     "output_type": "stream",
     "text": [
      "231 matching events found\n",
      "No baseline correction applied\n",
      "0 projection items activated\n",
      "Using data from preloaded Raw for 231 events and 1250 original time points ...\n",
      "0 bad epochs dropped\n"
     ]
    }
   ],
   "source": [
    "sample=read_data(healthy[0])"
   ]
  },
  {
   "cell_type": "code",
   "execution_count": 33,
   "id": "10e1416f-cf89-4154-b498-e854664e55b9",
   "metadata": {},
   "outputs": [
    {
     "data": {
      "text/plain": [
       "(231, 19, 1250)"
      ]
     },
     "execution_count": 33,
     "metadata": {},
     "output_type": "execute_result"
    }
   ],
   "source": [
    "sample.shape"
   ]
  },
  {
   "cell_type": "code",
   "execution_count": 34,
   "id": "501f574d-70d0-4c44-aa6a-887fc47061f3",
   "metadata": {},
   "outputs": [],
   "source": [
    "%%capture\n",
    "control_epochs_healthy=[read_data(i) for i in healthy]\n",
    "epochs_patient=[read_data(i) for i in patient]"
   ]
  },
  {
   "cell_type": "code",
   "execution_count": 35,
   "id": "4cb0356c-ebbb-48a2-9631-362966b228cd",
   "metadata": {},
   "outputs": [
    {
     "data": {
      "text/plain": [
       "((231, 19, 1250), (227, 19, 1250))"
      ]
     },
     "execution_count": 35,
     "metadata": {},
     "output_type": "execute_result"
    }
   ],
   "source": [
    "control_epochs_healthy[0].shape,control_epochs_healthy[1].shape"
   ]
  },
  {
   "cell_type": "code",
   "execution_count": 36,
   "id": "ac9ba57c-19f9-4d16-ae88-6b9a68b2e877",
   "metadata": {},
   "outputs": [
    {
     "data": {
      "text/plain": [
       "14"
      ]
     },
     "execution_count": 36,
     "metadata": {},
     "output_type": "execute_result"
    }
   ],
   "source": [
    "healthy_labels=[len(i)*[0] for i in control_epochs_healthy]\n",
    "patient_labels=[len(i)*[1] for i in epochs_patient]\n",
    "len(healthy_labels)"
   ]
  },
  {
   "cell_type": "code",
   "execution_count": 37,
   "id": "d1aebb4f-78db-4143-86ff-e0da3e93b3df",
   "metadata": {},
   "outputs": [],
   "source": [
    "data=control_epochs_healthy+epochs_patient\n",
    "label=healthy_labels+patient_labels"
   ]
  },
  {
   "cell_type": "code",
   "execution_count": 38,
   "id": "65372f73-2f15-4b13-be31-c38653ffe21e",
   "metadata": {},
   "outputs": [
    {
     "data": {
      "text/plain": [
       "28"
      ]
     },
     "execution_count": 38,
     "metadata": {},
     "output_type": "execute_result"
    }
   ],
   "source": [
    "group=[[i]*len(j) for i,j in enumerate(data)]\n",
    "len(group)"
   ]
  },
  {
   "cell_type": "code",
   "execution_count": 39,
   "id": "a561642a-1652-4227-8cf2-aeef26abe805",
   "metadata": {},
   "outputs": [
    {
     "data": {
      "text/plain": [
       "[0,\n",
       " 0,\n",
       " 0,\n",
       " 0,\n",
       " 0,\n",
       " 0,\n",
       " 0,\n",
       " 0,\n",
       " 0,\n",
       " 0,\n",
       " 0,\n",
       " 0,\n",
       " 0,\n",
       " 0,\n",
       " 0,\n",
       " 0,\n",
       " 0,\n",
       " 0,\n",
       " 0,\n",
       " 0,\n",
       " 0,\n",
       " 0,\n",
       " 0,\n",
       " 0,\n",
       " 0,\n",
       " 0,\n",
       " 0,\n",
       " 0,\n",
       " 0,\n",
       " 0,\n",
       " 0,\n",
       " 0,\n",
       " 0,\n",
       " 0,\n",
       " 0,\n",
       " 0,\n",
       " 0,\n",
       " 0,\n",
       " 0,\n",
       " 0,\n",
       " 0,\n",
       " 0,\n",
       " 0,\n",
       " 0,\n",
       " 0,\n",
       " 0,\n",
       " 0,\n",
       " 0,\n",
       " 0,\n",
       " 0,\n",
       " 0,\n",
       " 0,\n",
       " 0,\n",
       " 0,\n",
       " 0,\n",
       " 0,\n",
       " 0,\n",
       " 0,\n",
       " 0,\n",
       " 0,\n",
       " 0,\n",
       " 0,\n",
       " 0,\n",
       " 0,\n",
       " 0,\n",
       " 0,\n",
       " 0,\n",
       " 0,\n",
       " 0,\n",
       " 0,\n",
       " 0,\n",
       " 0,\n",
       " 0,\n",
       " 0,\n",
       " 0,\n",
       " 0,\n",
       " 0,\n",
       " 0,\n",
       " 0,\n",
       " 0,\n",
       " 0,\n",
       " 0,\n",
       " 0,\n",
       " 0,\n",
       " 0,\n",
       " 0,\n",
       " 0,\n",
       " 0,\n",
       " 0,\n",
       " 0,\n",
       " 0,\n",
       " 0,\n",
       " 0,\n",
       " 0,\n",
       " 0,\n",
       " 0,\n",
       " 0,\n",
       " 0,\n",
       " 0,\n",
       " 0,\n",
       " 0,\n",
       " 0,\n",
       " 0,\n",
       " 0,\n",
       " 0,\n",
       " 0,\n",
       " 0,\n",
       " 0,\n",
       " 0,\n",
       " 0,\n",
       " 0,\n",
       " 0,\n",
       " 0,\n",
       " 0,\n",
       " 0,\n",
       " 0,\n",
       " 0,\n",
       " 0,\n",
       " 0,\n",
       " 0,\n",
       " 0,\n",
       " 0,\n",
       " 0,\n",
       " 0,\n",
       " 0,\n",
       " 0,\n",
       " 0,\n",
       " 0,\n",
       " 0,\n",
       " 0,\n",
       " 0,\n",
       " 0,\n",
       " 0,\n",
       " 0,\n",
       " 0,\n",
       " 0,\n",
       " 0,\n",
       " 0,\n",
       " 0,\n",
       " 0,\n",
       " 0,\n",
       " 0,\n",
       " 0,\n",
       " 0,\n",
       " 0,\n",
       " 0,\n",
       " 0,\n",
       " 0,\n",
       " 0,\n",
       " 0,\n",
       " 0,\n",
       " 0,\n",
       " 0,\n",
       " 0,\n",
       " 0,\n",
       " 0,\n",
       " 0,\n",
       " 0,\n",
       " 0,\n",
       " 0,\n",
       " 0,\n",
       " 0,\n",
       " 0,\n",
       " 0,\n",
       " 0,\n",
       " 0,\n",
       " 0,\n",
       " 0,\n",
       " 0,\n",
       " 0,\n",
       " 0,\n",
       " 0,\n",
       " 0,\n",
       " 0,\n",
       " 0,\n",
       " 0,\n",
       " 0,\n",
       " 0,\n",
       " 0,\n",
       " 0,\n",
       " 0,\n",
       " 0,\n",
       " 0,\n",
       " 0,\n",
       " 0,\n",
       " 0,\n",
       " 0,\n",
       " 0,\n",
       " 0,\n",
       " 0,\n",
       " 0,\n",
       " 0,\n",
       " 0,\n",
       " 0,\n",
       " 0,\n",
       " 0,\n",
       " 0,\n",
       " 0,\n",
       " 0,\n",
       " 0,\n",
       " 0,\n",
       " 0,\n",
       " 0,\n",
       " 0,\n",
       " 0,\n",
       " 0,\n",
       " 0,\n",
       " 0,\n",
       " 0,\n",
       " 0,\n",
       " 0,\n",
       " 0,\n",
       " 0,\n",
       " 0,\n",
       " 0,\n",
       " 0,\n",
       " 0,\n",
       " 0,\n",
       " 0,\n",
       " 0,\n",
       " 0,\n",
       " 0,\n",
       " 0,\n",
       " 0,\n",
       " 0,\n",
       " 0,\n",
       " 0,\n",
       " 0,\n",
       " 0,\n",
       " 0,\n",
       " 0]"
      ]
     },
     "execution_count": 39,
     "metadata": {},
     "output_type": "execute_result"
    }
   ],
   "source": [
    "group[0]"
   ]
  },
  {
   "cell_type": "code",
   "execution_count": 40,
   "id": "c392e996-8272-4e88-be2d-a23d5255151b",
   "metadata": {},
   "outputs": [
    {
     "data": {
      "text/plain": [
       "[1,\n",
       " 1,\n",
       " 1,\n",
       " 1,\n",
       " 1,\n",
       " 1,\n",
       " 1,\n",
       " 1,\n",
       " 1,\n",
       " 1,\n",
       " 1,\n",
       " 1,\n",
       " 1,\n",
       " 1,\n",
       " 1,\n",
       " 1,\n",
       " 1,\n",
       " 1,\n",
       " 1,\n",
       " 1,\n",
       " 1,\n",
       " 1,\n",
       " 1,\n",
       " 1,\n",
       " 1,\n",
       " 1,\n",
       " 1,\n",
       " 1,\n",
       " 1,\n",
       " 1,\n",
       " 1,\n",
       " 1,\n",
       " 1,\n",
       " 1,\n",
       " 1,\n",
       " 1,\n",
       " 1,\n",
       " 1,\n",
       " 1,\n",
       " 1,\n",
       " 1,\n",
       " 1,\n",
       " 1,\n",
       " 1,\n",
       " 1,\n",
       " 1,\n",
       " 1,\n",
       " 1,\n",
       " 1,\n",
       " 1,\n",
       " 1,\n",
       " 1,\n",
       " 1,\n",
       " 1,\n",
       " 1,\n",
       " 1,\n",
       " 1,\n",
       " 1,\n",
       " 1,\n",
       " 1,\n",
       " 1,\n",
       " 1,\n",
       " 1,\n",
       " 1,\n",
       " 1,\n",
       " 1,\n",
       " 1,\n",
       " 1,\n",
       " 1,\n",
       " 1,\n",
       " 1,\n",
       " 1,\n",
       " 1,\n",
       " 1,\n",
       " 1,\n",
       " 1,\n",
       " 1,\n",
       " 1,\n",
       " 1,\n",
       " 1,\n",
       " 1,\n",
       " 1,\n",
       " 1,\n",
       " 1,\n",
       " 1,\n",
       " 1,\n",
       " 1,\n",
       " 1,\n",
       " 1,\n",
       " 1,\n",
       " 1,\n",
       " 1,\n",
       " 1,\n",
       " 1,\n",
       " 1,\n",
       " 1,\n",
       " 1,\n",
       " 1,\n",
       " 1,\n",
       " 1,\n",
       " 1,\n",
       " 1,\n",
       " 1,\n",
       " 1,\n",
       " 1,\n",
       " 1,\n",
       " 1,\n",
       " 1,\n",
       " 1,\n",
       " 1,\n",
       " 1,\n",
       " 1,\n",
       " 1,\n",
       " 1,\n",
       " 1,\n",
       " 1,\n",
       " 1,\n",
       " 1,\n",
       " 1,\n",
       " 1,\n",
       " 1,\n",
       " 1,\n",
       " 1,\n",
       " 1,\n",
       " 1,\n",
       " 1,\n",
       " 1,\n",
       " 1,\n",
       " 1,\n",
       " 1,\n",
       " 1,\n",
       " 1,\n",
       " 1,\n",
       " 1,\n",
       " 1,\n",
       " 1,\n",
       " 1,\n",
       " 1,\n",
       " 1,\n",
       " 1,\n",
       " 1,\n",
       " 1,\n",
       " 1,\n",
       " 1,\n",
       " 1,\n",
       " 1,\n",
       " 1,\n",
       " 1,\n",
       " 1,\n",
       " 1,\n",
       " 1,\n",
       " 1,\n",
       " 1,\n",
       " 1,\n",
       " 1,\n",
       " 1,\n",
       " 1,\n",
       " 1,\n",
       " 1,\n",
       " 1,\n",
       " 1,\n",
       " 1,\n",
       " 1,\n",
       " 1,\n",
       " 1,\n",
       " 1,\n",
       " 1,\n",
       " 1,\n",
       " 1,\n",
       " 1,\n",
       " 1,\n",
       " 1,\n",
       " 1,\n",
       " 1,\n",
       " 1,\n",
       " 1,\n",
       " 1,\n",
       " 1,\n",
       " 1,\n",
       " 1,\n",
       " 1,\n",
       " 1,\n",
       " 1,\n",
       " 1,\n",
       " 1,\n",
       " 1,\n",
       " 1,\n",
       " 1,\n",
       " 1,\n",
       " 1,\n",
       " 1,\n",
       " 1,\n",
       " 1,\n",
       " 1,\n",
       " 1,\n",
       " 1,\n",
       " 1,\n",
       " 1,\n",
       " 1,\n",
       " 1,\n",
       " 1,\n",
       " 1,\n",
       " 1,\n",
       " 1,\n",
       " 1,\n",
       " 1,\n",
       " 1,\n",
       " 1,\n",
       " 1,\n",
       " 1,\n",
       " 1,\n",
       " 1,\n",
       " 1,\n",
       " 1,\n",
       " 1,\n",
       " 1,\n",
       " 1,\n",
       " 1,\n",
       " 1,\n",
       " 1,\n",
       " 1,\n",
       " 1,\n",
       " 1,\n",
       " 1,\n",
       " 1,\n",
       " 1,\n",
       " 1]"
      ]
     },
     "execution_count": 40,
     "metadata": {},
     "output_type": "execute_result"
    }
   ],
   "source": [
    "group[1]"
   ]
  },
  {
   "cell_type": "code",
   "execution_count": 41,
   "id": "cf231388-70dd-4efa-a521-d35c2df491c3",
   "metadata": {},
   "outputs": [
    {
     "name": "stdout",
     "output_type": "stream",
     "text": [
      "(7201, 19, 1250) (7201,) (7201,)\n"
     ]
    }
   ],
   "source": [
    "data_array=np.vstack(data)\n",
    "label_array=np.hstack(label)\n",
    "group_array=np.hstack(group)\n",
    "print(data_array.shape,label_array.shape,group_array.shape)"
   ]
  },
  {
   "cell_type": "code",
   "execution_count": 42,
   "id": "8dc79cae-248f-40f9-b3ff-2b5703648593",
   "metadata": {},
   "outputs": [],
   "source": [
    "from scipy import stats\n",
    "def mean(data):\n",
    "    return np.mean(data,axis=-1)\n",
    "    \n",
    "def std(data):\n",
    "    return np.std(data,axis=-1)\n",
    "\n",
    "def ptp(data):\n",
    "    return np.ptp(data,axis=-1)\n",
    "\n",
    "def var(data):\n",
    "        return np.var(data,axis=-1)\n",
    "\n",
    "def minim(data):\n",
    "      return np.min(data,axis=-1)\n",
    "\n",
    "\n",
    "def maxim(data):\n",
    "      return np.max(data,axis=-1)\n",
    "\n",
    "def argminim(data):\n",
    "      return np.argmin(data,axis=-1)\n",
    "\n",
    "\n",
    "def argmaxim(data):\n",
    "      return np.argmax(data,axis=-1)\n",
    "\n",
    "def mean_square(data):\n",
    "      return np.mean(data**2,axis=-1)\n",
    "\n",
    "def rms(data): #root mean square\n",
    "      return  np.sqrt(np.mean(data**2,axis=-1))  \n",
    "\n",
    "def abs_diffs_signal(data):\n",
    "    return np.sum(np.abs(np.diff(data,axis=-1)),axis=-1)\n",
    "\n",
    "\n",
    "def skewness(data):\n",
    "    return stats.skew(data,axis=-1)\n",
    "\n",
    "def kurtosis(data):\n",
    "    return stats.kurtosis(data,axis=-1)\n",
    "\n",
    "def concatenate_features(data):\n",
    "    return np.concatenate((mean(data),std(data),ptp(data),var(data),minim(data),maxim(data),argminim(data),argmaxim(data),\n",
    "                          mean_square(data),rms(data),abs_diffs_signal(data),\n",
    "                          skewness(data),kurtosis(data)),axis=-1)"
   ]
  },
  {
   "cell_type": "code",
   "execution_count": 43,
   "id": "03bbeb09-63dd-4480-be1b-2cf66bf5a166",
   "metadata": {},
   "outputs": [
    {
     "name": "stderr",
     "output_type": "stream",
     "text": [
      "C:\\Users\\Viraj Wadke\\AppData\\Local\\Temp\\ipykernel_14612\\3783067424.py:3: TqdmDeprecationWarning: This function will be removed in tqdm==5.0.0\n",
      "Please use `tqdm.notebook.tqdm` instead of `tqdm.tqdm_notebook`\n",
      "  for data in tqdm_notebook(data_array):\n"
     ]
    },
    {
     "data": {
      "application/vnd.jupyter.widget-view+json": {
       "model_id": "3ae35f934648416f91dc47c0d2c9aaca",
       "version_major": 2,
       "version_minor": 0
      },
      "text/plain": [
       "  0%|          | 0/7201 [00:00<?, ?it/s]"
      ]
     },
     "metadata": {},
     "output_type": "display_data"
    },
    {
     "data": {
      "text/plain": [
       "(7201, 247)"
      ]
     },
     "execution_count": 43,
     "metadata": {},
     "output_type": "execute_result"
    }
   ],
   "source": [
    "from tqdm import tqdm_notebook\n",
    "features=[]\n",
    "for data in tqdm_notebook(data_array):\n",
    "    features.append(concatenate_features(data))\n",
    "features=np.array(features)\n",
    "features.shape"
   ]
  },
  {
   "cell_type": "code",
   "execution_count": 44,
   "id": "d2bb19de-be1b-435b-81d9-06aec93d5cd3",
   "metadata": {},
   "outputs": [],
   "source": [
    "from sklearn.linear_model import LogisticRegression\n",
    "from sklearn.pipeline import Pipeline\n",
    "from sklearn.preprocessing import StandardScaler\n",
    "from sklearn.model_selection import GroupKFold,GridSearchCV,cross_val_score,cross_validate "
   ]
  },
  {
   "cell_type": "code",
   "execution_count": 46,
   "id": "2931be3c-3b41-4dff-a9c1-5d0ae5cc56c0",
   "metadata": {},
   "outputs": [
    {
     "data": {
      "text/html": [
       "<style>#sk-container-id-2 {color: black;background-color: white;}#sk-container-id-2 pre{padding: 0;}#sk-container-id-2 div.sk-toggleable {background-color: white;}#sk-container-id-2 label.sk-toggleable__label {cursor: pointer;display: block;width: 100%;margin-bottom: 0;padding: 0.3em;box-sizing: border-box;text-align: center;}#sk-container-id-2 label.sk-toggleable__label-arrow:before {content: \"▸\";float: left;margin-right: 0.25em;color: #696969;}#sk-container-id-2 label.sk-toggleable__label-arrow:hover:before {color: black;}#sk-container-id-2 div.sk-estimator:hover label.sk-toggleable__label-arrow:before {color: black;}#sk-container-id-2 div.sk-toggleable__content {max-height: 0;max-width: 0;overflow: hidden;text-align: left;background-color: #f0f8ff;}#sk-container-id-2 div.sk-toggleable__content pre {margin: 0.2em;color: black;border-radius: 0.25em;background-color: #f0f8ff;}#sk-container-id-2 input.sk-toggleable__control:checked~div.sk-toggleable__content {max-height: 200px;max-width: 100%;overflow: auto;}#sk-container-id-2 input.sk-toggleable__control:checked~label.sk-toggleable__label-arrow:before {content: \"▾\";}#sk-container-id-2 div.sk-estimator input.sk-toggleable__control:checked~label.sk-toggleable__label {background-color: #d4ebff;}#sk-container-id-2 div.sk-label input.sk-toggleable__control:checked~label.sk-toggleable__label {background-color: #d4ebff;}#sk-container-id-2 input.sk-hidden--visually {border: 0;clip: rect(1px 1px 1px 1px);clip: rect(1px, 1px, 1px, 1px);height: 1px;margin: -1px;overflow: hidden;padding: 0;position: absolute;width: 1px;}#sk-container-id-2 div.sk-estimator {font-family: monospace;background-color: #f0f8ff;border: 1px dotted black;border-radius: 0.25em;box-sizing: border-box;margin-bottom: 0.5em;}#sk-container-id-2 div.sk-estimator:hover {background-color: #d4ebff;}#sk-container-id-2 div.sk-parallel-item::after {content: \"\";width: 100%;border-bottom: 1px solid gray;flex-grow: 1;}#sk-container-id-2 div.sk-label:hover label.sk-toggleable__label {background-color: #d4ebff;}#sk-container-id-2 div.sk-serial::before {content: \"\";position: absolute;border-left: 1px solid gray;box-sizing: border-box;top: 0;bottom: 0;left: 50%;z-index: 0;}#sk-container-id-2 div.sk-serial {display: flex;flex-direction: column;align-items: center;background-color: white;padding-right: 0.2em;padding-left: 0.2em;position: relative;}#sk-container-id-2 div.sk-item {position: relative;z-index: 1;}#sk-container-id-2 div.sk-parallel {display: flex;align-items: stretch;justify-content: center;background-color: white;position: relative;}#sk-container-id-2 div.sk-item::before, #sk-container-id-2 div.sk-parallel-item::before {content: \"\";position: absolute;border-left: 1px solid gray;box-sizing: border-box;top: 0;bottom: 0;left: 50%;z-index: -1;}#sk-container-id-2 div.sk-parallel-item {display: flex;flex-direction: column;z-index: 1;position: relative;background-color: white;}#sk-container-id-2 div.sk-parallel-item:first-child::after {align-self: flex-end;width: 50%;}#sk-container-id-2 div.sk-parallel-item:last-child::after {align-self: flex-start;width: 50%;}#sk-container-id-2 div.sk-parallel-item:only-child::after {width: 0;}#sk-container-id-2 div.sk-dashed-wrapped {border: 1px dashed gray;margin: 0 0.4em 0.5em 0.4em;box-sizing: border-box;padding-bottom: 0.4em;background-color: white;}#sk-container-id-2 div.sk-label label {font-family: monospace;font-weight: bold;display: inline-block;line-height: 1.2em;}#sk-container-id-2 div.sk-label-container {text-align: center;}#sk-container-id-2 div.sk-container {/* jupyter's `normalize.less` sets `[hidden] { display: none; }` but bootstrap.min.css set `[hidden] { display: none !important; }` so we also need the `!important` here to be able to override the default hidden behavior on the sphinx rendered scikit-learn.org. See: https://github.com/scikit-learn/scikit-learn/issues/21755 */display: inline-block !important;position: relative;}#sk-container-id-2 div.sk-text-repr-fallback {display: none;}</style><div id=\"sk-container-id-2\" class=\"sk-top-container\"><div class=\"sk-text-repr-fallback\"><pre>GridSearchCV(cv=GroupKFold(n_splits=5),\n",
       "             estimator=Pipeline(steps=[(&#x27;scaler&#x27;, StandardScaler()),\n",
       "                                       (&#x27;classifier&#x27;, SVC())]),\n",
       "             n_jobs=16,\n",
       "             param_grid={&#x27;classifier__C&#x27;: [0.01, 0.05, 0.1, 0.5, 1, 2, 3, 4, 5,\n",
       "                                           8, 10, 12, 15]})</pre><b>In a Jupyter environment, please rerun this cell to show the HTML representation or trust the notebook. <br />On GitHub, the HTML representation is unable to render, please try loading this page with nbviewer.org.</b></div><div class=\"sk-container\" hidden><div class=\"sk-item sk-dashed-wrapped\"><div class=\"sk-label-container\"><div class=\"sk-label sk-toggleable\"><input class=\"sk-toggleable__control sk-hidden--visually\" id=\"sk-estimator-id-5\" type=\"checkbox\" ><label for=\"sk-estimator-id-5\" class=\"sk-toggleable__label sk-toggleable__label-arrow\">GridSearchCV</label><div class=\"sk-toggleable__content\"><pre>GridSearchCV(cv=GroupKFold(n_splits=5),\n",
       "             estimator=Pipeline(steps=[(&#x27;scaler&#x27;, StandardScaler()),\n",
       "                                       (&#x27;classifier&#x27;, SVC())]),\n",
       "             n_jobs=16,\n",
       "             param_grid={&#x27;classifier__C&#x27;: [0.01, 0.05, 0.1, 0.5, 1, 2, 3, 4, 5,\n",
       "                                           8, 10, 12, 15]})</pre></div></div></div><div class=\"sk-parallel\"><div class=\"sk-parallel-item\"><div class=\"sk-item\"><div class=\"sk-label-container\"><div class=\"sk-label sk-toggleable\"><input class=\"sk-toggleable__control sk-hidden--visually\" id=\"sk-estimator-id-6\" type=\"checkbox\" ><label for=\"sk-estimator-id-6\" class=\"sk-toggleable__label sk-toggleable__label-arrow\">estimator: Pipeline</label><div class=\"sk-toggleable__content\"><pre>Pipeline(steps=[(&#x27;scaler&#x27;, StandardScaler()), (&#x27;classifier&#x27;, SVC())])</pre></div></div></div><div class=\"sk-serial\"><div class=\"sk-item\"><div class=\"sk-serial\"><div class=\"sk-item\"><div class=\"sk-estimator sk-toggleable\"><input class=\"sk-toggleable__control sk-hidden--visually\" id=\"sk-estimator-id-7\" type=\"checkbox\" ><label for=\"sk-estimator-id-7\" class=\"sk-toggleable__label sk-toggleable__label-arrow\">StandardScaler</label><div class=\"sk-toggleable__content\"><pre>StandardScaler()</pre></div></div></div><div class=\"sk-item\"><div class=\"sk-estimator sk-toggleable\"><input class=\"sk-toggleable__control sk-hidden--visually\" id=\"sk-estimator-id-8\" type=\"checkbox\" ><label for=\"sk-estimator-id-8\" class=\"sk-toggleable__label sk-toggleable__label-arrow\">SVC</label><div class=\"sk-toggleable__content\"><pre>SVC()</pre></div></div></div></div></div></div></div></div></div></div></div></div>"
      ],
      "text/plain": [
       "GridSearchCV(cv=GroupKFold(n_splits=5),\n",
       "             estimator=Pipeline(steps=[('scaler', StandardScaler()),\n",
       "                                       ('classifier', SVC())]),\n",
       "             n_jobs=16,\n",
       "             param_grid={'classifier__C': [0.01, 0.05, 0.1, 0.5, 1, 2, 3, 4, 5,\n",
       "                                           8, 10, 12, 15]})"
      ]
     },
     "execution_count": 46,
     "metadata": {},
     "output_type": "execute_result"
    }
   ],
   "source": [
    "from sklearn.svm import SVC\n",
    "from sklearn.preprocessing import StandardScaler\n",
    "from sklearn.pipeline import Pipeline\n",
    "from sklearn.model_selection import GridSearchCV, GroupKFold\n",
    "\n",
    "# Define the Support Vector Machine classifier\n",
    "clf = SVC()\n",
    "\n",
    "# Define GroupKFold cross-validation\n",
    "gkf = GroupKFold(n_splits=5)\n",
    "\n",
    "# Define the parameter grid for grid search\n",
    "param_grid = {'classifier__C': [0.01, 0.05, 0.1, 0.5, 1, 2, 3, 4, 5, 8, 10, 12, 15]}\n",
    "\n",
    "# Construct the pipeline\n",
    "pipe = Pipeline([('scaler', StandardScaler()), ('classifier', clf)])\n",
    "\n",
    "# Construct the GridSearchCV model\n",
    "model = GridSearchCV(pipe, param_grid, cv=gkf, n_jobs=16)\n",
    "\n",
    "# Fit the model\n",
    "model.fit(features, label_array, groups=group_array)\n"
   ]
  },
  {
   "cell_type": "code",
   "execution_count": 48,
   "id": "a3a95d64-1d22-4cdb-97dc-dcc8250f1a1d",
   "metadata": {},
   "outputs": [
    {
     "name": "stdout",
     "output_type": "stream",
     "text": [
      "Best mean cross-validated score: 0.6629102299767442\n"
     ]
    }
   ],
   "source": [
    "best_score = model.best_score_\n",
    "print(\"Best mean cross-validated score:\", best_score)\n"
   ]
  },
  {
   "cell_type": "code",
   "execution_count": 50,
   "id": "a8cc1d9c-0158-4235-983e-36b7e00cc6d2",
   "metadata": {},
   "outputs": [
    {
     "name": "stdout",
     "output_type": "stream",
     "text": [
      "Sample prediction: [0]\n"
     ]
    }
   ],
   "source": [
    "def predict_mental_disorder(features):\n",
    "    # Use the best estimator from GridSearchCV\n",
    "    best_estimator = model.best_estimator_\n",
    "    \n",
    "    # Predict labels for the input features\n",
    "    predictions = best_estimator.predict(features)\n",
    "    \n",
    "    return predictions\n",
    "\n",
    "# Generate a sample input for testing\n",
    "sample_input = features[0].reshape(1, -1)  # Reshape to match the expected input shape\n",
    "\n",
    "# Predict whether the sample input indicates a mental disorder or not\n",
    "prediction = predict_mental_disorder(sample_input)\n",
    "print(\"Sample prediction:\", prediction)\n"
   ]
  },
  {
   "cell_type": "code",
   "execution_count": 51,
   "id": "ab0e12b4-d153-49a8-b189-48b2e1f51c6c",
   "metadata": {},
   "outputs": [
    {
     "name": "stdout",
     "output_type": "stream",
     "text": [
      "Sample feature array for a healthy patient: (1, 19, 1250)\n",
      "Sample feature array for a patient with schizophrenia: (1, 19, 1250)\n"
     ]
    }
   ],
   "source": [
    "# Sample feature array for a healthy patient\n",
    "sample_healthy_patient_features = control_epochs_healthy[0][:1]  # Select features for the first healthy patient\n",
    "print(\"Sample feature array for a healthy patient:\", sample_healthy_patient_features.shape)\n",
    "\n",
    "# Sample feature array for a patient with schizophrenia\n",
    "sample_schizophrenia_patient_features = epochs_patient[0][:1]  # Select features for the first patient with schizophrenia\n",
    "print(\"Sample feature array for a patient with schizophrenia:\", sample_schizophrenia_patient_features.shape)\n"
   ]
  },
  {
   "cell_type": "code",
   "execution_count": 68,
   "id": "2516f230-41f7-4db0-952d-bab09d0885a0",
   "metadata": {},
   "outputs": [
    {
     "name": "stdout",
     "output_type": "stream",
     "text": [
      "Sample prediction labels: ['Healthy']\n",
      "Input features: [[-3.80932863e-07 -1.38311332e-07 -4.08967639e-08  3.50377829e-08\n",
      "  -9.00192403e-08  2.04127841e-07  4.65616321e-07  1.19992102e-07\n",
      "   2.35581509e-08  1.73079497e-09 -6.64163650e-08 -8.91064454e-08\n",
      "  -9.62212906e-08  2.01877478e-07  1.21259390e-07 -1.24844992e-08\n",
      "   1.93079945e-08 -1.76869496e-07 -1.01249559e-07  9.36537524e-06\n",
      "   9.42470391e-06  5.65202514e-06  8.74859729e-06  2.01249903e-05\n",
      "   7.61104571e-06  7.59691063e-06  5.18899357e-06  9.64855648e-06\n",
      "   1.85989396e-05  7.10634818e-06  5.09722423e-06  5.32690136e-06\n",
      "   6.33333787e-06  4.68171148e-06  4.88836562e-06  6.97729554e-06\n",
      "   1.03901482e-05  6.34563096e-06  5.03372426e-05  5.81657584e-05\n",
      "   3.58297105e-05  6.08117505e-05  1.07490437e-04  4.31849873e-05\n",
      "   5.12266904e-05  3.74606562e-05  7.50750568e-05  1.12729949e-04\n",
      "   4.43977541e-05  3.21156847e-05  3.50597554e-05  3.85177883e-05\n",
      "   3.05953395e-05  3.48580876e-05  3.80671706e-05  9.38109712e-05\n",
      "   3.84188083e-05  8.77102535e-11  8.88250439e-11  3.19453881e-11\n",
      "   7.65379546e-11  4.05015233e-10  5.79280169e-11  5.77130512e-11\n",
      "   2.69256543e-11  9.30946421e-11  3.45920554e-10  5.05001845e-11\n",
      "   2.59816948e-11  2.83758781e-11  4.01111686e-11  2.19184223e-11\n",
      "   2.38961184e-11  4.86826530e-11  1.07955180e-10  4.02670323e-11\n",
      "  -2.35861471e-05 -2.97702969e-05 -1.87352213e-05 -2.86556106e-05\n",
      "  -4.40641790e-05 -2.07903565e-05 -2.71872620e-05 -2.13653656e-05\n",
      "  -3.61435220e-05 -4.82585781e-05 -2.54575449e-05 -1.75615103e-05\n",
      "  -1.69142577e-05 -1.99664102e-05 -1.74314305e-05 -1.79234568e-05\n",
      "  -1.82799196e-05 -7.06039113e-05 -1.74850909e-05  2.67510955e-05\n",
      "   2.83954615e-05  1.70944891e-05  3.21561399e-05  6.34262576e-05\n",
      "   2.23946309e-05  2.40394284e-05  1.60952906e-05  3.89315348e-05\n",
      "   6.44713710e-05  1.89402092e-05  1.45541744e-05  1.81454977e-05\n",
      "   1.85513782e-05  1.31639090e-05  1.69346308e-05  1.97872510e-05\n",
      "   2.32070599e-05  2.09337174e-05  3.26000000e+02  3.55000000e+02\n",
      "   3.54000000e+02  1.04100000e+03  3.89000000e+02  1.16700000e+03\n",
      "   2.36000000e+02  4.04000000e+02  7.65000000e+02  7.65000000e+02\n",
      "   3.53000000e+02  3.54000000e+02  5.40000000e+01  2.35000000e+02\n",
      "   4.04000000e+02  7.93000000e+02  1.22100000e+03  2.56000000e+02\n",
      "   1.23000000e+03  1.20400000e+03  2.22000000e+02  7.92000000e+02\n",
      "   1.16700000e+03  3.54000000e+02  5.50000000e+01  1.23000000e+03\n",
      "   7.10000000e+02  7.55000000e+02  3.54000000e+02  2.65000000e+02\n",
      "   7.92000000e+02  2.40000000e+01  3.40000000e+02  1.18000000e+03\n",
      "   3.03000000e+02  3.89000000e+02  3.89000000e+02  3.54000000e+02\n",
      "   8.78553633e-11  8.88441739e-11  3.19470607e-11  7.65391822e-11\n",
      "   4.05023336e-10  5.79696850e-11  5.79298497e-11  2.69400524e-11\n",
      "   9.30951971e-11  3.45920557e-10  5.05045956e-11  2.59896348e-11\n",
      "   2.83851366e-11  4.01519231e-11  2.19331262e-11  2.38962743e-11\n",
      "   4.86830258e-11  1.07986463e-10  4.02772838e-11  9.37311919e-06\n",
      "   9.42571875e-06  5.65217309e-06  8.74866745e-06  2.01251916e-05\n",
      "   7.61378257e-06  7.61116612e-06  5.19038076e-06  9.64858524e-06\n",
      "   1.85989397e-05  7.10665854e-06  5.09800302e-06  5.32777032e-06\n",
      "   6.33655451e-06  4.68328156e-06  4.88838156e-06  6.97732225e-06\n",
      "   1.03916535e-05  6.34643867e-06  2.33278271e-03  2.24437346e-03\n",
      "   1.72587795e-03  2.53270175e-03  5.62124431e-03  2.15700082e-03\n",
      "   1.97025665e-03  2.22725302e-03  2.73058635e-03  5.21002753e-03\n",
      "   1.98176075e-03  1.61108817e-03  1.71432139e-03  1.78488532e-03\n",
      "   1.60152646e-03  1.52943713e-03  1.95339535e-03  1.97701224e-03\n",
      "   1.89406478e-03  9.51051118e-02 -1.20070992e-01 -2.07632844e-01\n",
      "   3.62996445e-01  1.90187720e-01  7.53734359e-02 -2.55485130e-01\n",
      "  -1.08385459e-01  1.29130461e-01  1.61163512e-01 -1.18390167e-01\n",
      "  -3.73299525e-01  3.38259306e-02 -1.44044785e-01 -1.36178294e-01\n",
      "   1.39498081e-01  8.40786215e-03 -2.85833055e+00  2.31523041e-02\n",
      "  -1.35710129e-01  5.23159398e-01  4.37249862e-02  6.37978366e-01\n",
      "  -4.52672379e-01 -2.33892522e-01  8.99098025e-01  3.32173058e-01\n",
      "   6.39668987e-01 -2.77893212e-01  1.51673487e-01  2.61067712e-01\n",
      "   2.67805525e-01  1.58370334e-01  3.39111702e-01  5.68709269e-01\n",
      "  -8.38412467e-02  1.45601396e+01  2.28520747e-01]]\n"
     ]
    }
   ],
   "source": [
    "def predict_mental_disorder(features):\n",
    "    # Use the best estimator from GridSearchCV\n",
    "    best_estimator = model.best_estimator_\n",
    "    \n",
    "    # Predict labels for the input features\n",
    "    predictions = best_estimator.predict(features)\n",
    "    \n",
    "    # Map predictions to human-readable labels\n",
    "    prediction_labels = ['Healthy' if label == 0 else 'Schizophrenia' for label in predictions]\n",
    "    \n",
    "    return prediction_labels, features\n",
    "\n",
    "# Predict whether the sample input indicates a healthy patient or a patient with schizophrenia\n",
    "prediction_labels, input_features = predict_mental_disorder(sample_input)\n",
    "print(\"Sample prediction labels:\", prediction_labels)\n",
    "print(\"Input features:\", input_features)\n",
    "\n"
   ]
  },
  {
   "cell_type": "code",
   "execution_count": 71,
   "id": "82b77a6b-aebe-478e-b0ec-11a8deabfe4d",
   "metadata": {},
   "outputs": [
    {
     "name": "stdout",
     "output_type": "stream",
     "text": [
      "Extracting EDF parameters from C:\\Users\\Viraj Wadke\\Desktop\\Projects\\minie_project_eeg\\data\\h01.edf...\n",
      "EDF file detected\n",
      "Setting channel info structure...\n",
      "Creating raw.info structure...\n",
      "Reading 0 ... 231249  =      0.000 ...   924.996 secs...\n",
      "EEG channel type selected for re-referencing\n",
      "Applying average reference.\n",
      "Applying a custom ('EEG',) reference.\n",
      "Filtering raw data in 1 contiguous segment\n",
      "Setting up band-pass filter from 0.5 - 45 Hz\n",
      "\n",
      "FIR filter parameters\n",
      "---------------------\n",
      "Designing a one-pass, zero-phase, non-causal bandpass filter:\n",
      "- Windowed time-domain design (firwin) method\n",
      "- Hamming window with 0.0194 passband ripple and 53 dB stopband attenuation\n",
      "- Lower passband edge: 0.50\n",
      "- Lower transition bandwidth: 0.50 Hz (-6 dB cutoff frequency: 0.25 Hz)\n",
      "- Upper passband edge: 45.00 Hz\n",
      "- Upper transition bandwidth: 11.25 Hz (-6 dB cutoff frequency: 50.62 Hz)\n",
      "- Filter length: 1651 samples (6.604 s)\n",
      "\n",
      "Not setting metadata\n",
      "231 matching events found\n"
     ]
    },
    {
     "name": "stderr",
     "output_type": "stream",
     "text": [
      "[Parallel(n_jobs=1)]: Using backend SequentialBackend with 1 concurrent workers.\n",
      "[Parallel(n_jobs=1)]: Done   1 out of   1 | elapsed:    0.0s remaining:    0.0s\n",
      "[Parallel(n_jobs=1)]: Done   2 out of   2 | elapsed:    0.0s remaining:    0.0s\n",
      "[Parallel(n_jobs=1)]: Done   3 out of   3 | elapsed:    0.0s remaining:    0.0s\n",
      "[Parallel(n_jobs=1)]: Done   4 out of   4 | elapsed:    0.0s remaining:    0.0s\n",
      "[Parallel(n_jobs=1)]: Done  19 out of  19 | elapsed:    0.1s finished\n"
     ]
    },
    {
     "name": "stdout",
     "output_type": "stream",
     "text": [
      "No baseline correction applied\n",
      "0 projection items activated\n",
      "Using data from preloaded Raw for 231 events and 1250 original time points ...\n",
      "0 bad epochs dropped\n",
      "Shape of extracted features: (231, 38)\n"
     ]
    },
    {
     "ename": "ValueError",
     "evalue": "X has 38 features, but StandardScaler is expecting 247 features as input.",
     "output_type": "error",
     "traceback": [
      "\u001b[1;31m---------------------------------------------------------------------------\u001b[0m",
      "\u001b[1;31mValueError\u001b[0m                                Traceback (most recent call last)",
      "Cell \u001b[1;32mIn[71], line 68\u001b[0m\n\u001b[0;32m     65\u001b[0m edf_file_path \u001b[38;5;241m=\u001b[39m \u001b[38;5;124m\"\u001b[39m\u001b[38;5;124mdata\u001b[39m\u001b[38;5;130;01m\\\\\u001b[39;00m\u001b[38;5;124mh01.edf\u001b[39m\u001b[38;5;124m\"\u001b[39m\n\u001b[0;32m     67\u001b[0m \u001b[38;5;66;03m# Process .edf file and predict mental disorder\u001b[39;00m\n\u001b[1;32m---> 68\u001b[0m prediction_labels, input_features \u001b[38;5;241m=\u001b[39m process_edf_and_predict(edf_file_path)\n\u001b[0;32m     70\u001b[0m \u001b[38;5;66;03m# Print the prediction labels and input features\u001b[39;00m\n\u001b[0;32m     71\u001b[0m \u001b[38;5;28mprint\u001b[39m(\u001b[38;5;124m\"\u001b[39m\u001b[38;5;124mPrediction labels:\u001b[39m\u001b[38;5;124m\"\u001b[39m, prediction_labels)\n",
      "Cell \u001b[1;32mIn[71], line 59\u001b[0m, in \u001b[0;36mprocess_edf_and_predict\u001b[1;34m(file_path)\u001b[0m\n\u001b[0;32m     56\u001b[0m sample_features_scaled \u001b[38;5;241m=\u001b[39m scaler\u001b[38;5;241m.\u001b[39mtransform(features)\n\u001b[0;32m     58\u001b[0m \u001b[38;5;66;03m# Predict mental disorder using the features\u001b[39;00m\n\u001b[1;32m---> 59\u001b[0m prediction_labels \u001b[38;5;241m=\u001b[39m predict_mental_disorder(sample_features_scaled)\n\u001b[0;32m     61\u001b[0m \u001b[38;5;28;01mreturn\u001b[39;00m prediction_labels, features\n",
      "Cell \u001b[1;32mIn[71], line 42\u001b[0m, in \u001b[0;36mpredict_mental_disorder\u001b[1;34m(features)\u001b[0m\n\u001b[0;32m     39\u001b[0m best_estimator \u001b[38;5;241m=\u001b[39m model\u001b[38;5;241m.\u001b[39mbest_estimator_\n\u001b[0;32m     41\u001b[0m \u001b[38;5;66;03m# Predict labels for the input features\u001b[39;00m\n\u001b[1;32m---> 42\u001b[0m predictions \u001b[38;5;241m=\u001b[39m best_estimator\u001b[38;5;241m.\u001b[39mpredict(features)\n\u001b[0;32m     44\u001b[0m \u001b[38;5;66;03m# Map predictions to human-readable labels\u001b[39;00m\n\u001b[0;32m     45\u001b[0m prediction_labels \u001b[38;5;241m=\u001b[39m [\u001b[38;5;124m'\u001b[39m\u001b[38;5;124mHealthy\u001b[39m\u001b[38;5;124m'\u001b[39m \u001b[38;5;28;01mif\u001b[39;00m label \u001b[38;5;241m==\u001b[39m \u001b[38;5;241m0\u001b[39m \u001b[38;5;28;01melse\u001b[39;00m \u001b[38;5;124m'\u001b[39m\u001b[38;5;124mSchizophrenia\u001b[39m\u001b[38;5;124m'\u001b[39m \u001b[38;5;28;01mfor\u001b[39;00m label \u001b[38;5;129;01min\u001b[39;00m predictions]\n",
      "File \u001b[1;32mC:\\Users\\Viraj\\anaconda3\\Lib\\site-packages\\sklearn\\pipeline.py:480\u001b[0m, in \u001b[0;36mPipeline.predict\u001b[1;34m(self, X, **predict_params)\u001b[0m\n\u001b[0;32m    478\u001b[0m Xt \u001b[38;5;241m=\u001b[39m X\n\u001b[0;32m    479\u001b[0m \u001b[38;5;28;01mfor\u001b[39;00m _, name, transform \u001b[38;5;129;01min\u001b[39;00m \u001b[38;5;28mself\u001b[39m\u001b[38;5;241m.\u001b[39m_iter(with_final\u001b[38;5;241m=\u001b[39m\u001b[38;5;28;01mFalse\u001b[39;00m):\n\u001b[1;32m--> 480\u001b[0m     Xt \u001b[38;5;241m=\u001b[39m transform\u001b[38;5;241m.\u001b[39mtransform(Xt)\n\u001b[0;32m    481\u001b[0m \u001b[38;5;28;01mreturn\u001b[39;00m \u001b[38;5;28mself\u001b[39m\u001b[38;5;241m.\u001b[39msteps[\u001b[38;5;241m-\u001b[39m\u001b[38;5;241m1\u001b[39m][\u001b[38;5;241m1\u001b[39m]\u001b[38;5;241m.\u001b[39mpredict(Xt, \u001b[38;5;241m*\u001b[39m\u001b[38;5;241m*\u001b[39mpredict_params)\n",
      "File \u001b[1;32mC:\\Users\\Viraj\\anaconda3\\Lib\\site-packages\\sklearn\\utils\\_set_output.py:140\u001b[0m, in \u001b[0;36m_wrap_method_output.<locals>.wrapped\u001b[1;34m(self, X, *args, **kwargs)\u001b[0m\n\u001b[0;32m    138\u001b[0m \u001b[38;5;129m@wraps\u001b[39m(f)\n\u001b[0;32m    139\u001b[0m \u001b[38;5;28;01mdef\u001b[39;00m \u001b[38;5;21mwrapped\u001b[39m(\u001b[38;5;28mself\u001b[39m, X, \u001b[38;5;241m*\u001b[39margs, \u001b[38;5;241m*\u001b[39m\u001b[38;5;241m*\u001b[39mkwargs):\n\u001b[1;32m--> 140\u001b[0m     data_to_wrap \u001b[38;5;241m=\u001b[39m f(\u001b[38;5;28mself\u001b[39m, X, \u001b[38;5;241m*\u001b[39margs, \u001b[38;5;241m*\u001b[39m\u001b[38;5;241m*\u001b[39mkwargs)\n\u001b[0;32m    141\u001b[0m     \u001b[38;5;28;01mif\u001b[39;00m \u001b[38;5;28misinstance\u001b[39m(data_to_wrap, \u001b[38;5;28mtuple\u001b[39m):\n\u001b[0;32m    142\u001b[0m         \u001b[38;5;66;03m# only wrap the first output for cross decomposition\u001b[39;00m\n\u001b[0;32m    143\u001b[0m         \u001b[38;5;28;01mreturn\u001b[39;00m (\n\u001b[0;32m    144\u001b[0m             _wrap_data_with_container(method, data_to_wrap[\u001b[38;5;241m0\u001b[39m], X, \u001b[38;5;28mself\u001b[39m),\n\u001b[0;32m    145\u001b[0m             \u001b[38;5;241m*\u001b[39mdata_to_wrap[\u001b[38;5;241m1\u001b[39m:],\n\u001b[0;32m    146\u001b[0m         )\n",
      "File \u001b[1;32mC:\\Users\\Viraj\\anaconda3\\Lib\\site-packages\\sklearn\\preprocessing\\_data.py:992\u001b[0m, in \u001b[0;36mStandardScaler.transform\u001b[1;34m(self, X, copy)\u001b[0m\n\u001b[0;32m    989\u001b[0m check_is_fitted(\u001b[38;5;28mself\u001b[39m)\n\u001b[0;32m    991\u001b[0m copy \u001b[38;5;241m=\u001b[39m copy \u001b[38;5;28;01mif\u001b[39;00m copy \u001b[38;5;129;01mis\u001b[39;00m \u001b[38;5;129;01mnot\u001b[39;00m \u001b[38;5;28;01mNone\u001b[39;00m \u001b[38;5;28;01melse\u001b[39;00m \u001b[38;5;28mself\u001b[39m\u001b[38;5;241m.\u001b[39mcopy\n\u001b[1;32m--> 992\u001b[0m X \u001b[38;5;241m=\u001b[39m \u001b[38;5;28mself\u001b[39m\u001b[38;5;241m.\u001b[39m_validate_data(\n\u001b[0;32m    993\u001b[0m     X,\n\u001b[0;32m    994\u001b[0m     reset\u001b[38;5;241m=\u001b[39m\u001b[38;5;28;01mFalse\u001b[39;00m,\n\u001b[0;32m    995\u001b[0m     accept_sparse\u001b[38;5;241m=\u001b[39m\u001b[38;5;124m\"\u001b[39m\u001b[38;5;124mcsr\u001b[39m\u001b[38;5;124m\"\u001b[39m,\n\u001b[0;32m    996\u001b[0m     copy\u001b[38;5;241m=\u001b[39mcopy,\n\u001b[0;32m    997\u001b[0m     dtype\u001b[38;5;241m=\u001b[39mFLOAT_DTYPES,\n\u001b[0;32m    998\u001b[0m     force_all_finite\u001b[38;5;241m=\u001b[39m\u001b[38;5;124m\"\u001b[39m\u001b[38;5;124mallow-nan\u001b[39m\u001b[38;5;124m\"\u001b[39m,\n\u001b[0;32m    999\u001b[0m )\n\u001b[0;32m   1001\u001b[0m \u001b[38;5;28;01mif\u001b[39;00m sparse\u001b[38;5;241m.\u001b[39missparse(X):\n\u001b[0;32m   1002\u001b[0m     \u001b[38;5;28;01mif\u001b[39;00m \u001b[38;5;28mself\u001b[39m\u001b[38;5;241m.\u001b[39mwith_mean:\n",
      "File \u001b[1;32mC:\\Users\\Viraj\\anaconda3\\Lib\\site-packages\\sklearn\\base.py:588\u001b[0m, in \u001b[0;36mBaseEstimator._validate_data\u001b[1;34m(self, X, y, reset, validate_separately, **check_params)\u001b[0m\n\u001b[0;32m    585\u001b[0m     out \u001b[38;5;241m=\u001b[39m X, y\n\u001b[0;32m    587\u001b[0m \u001b[38;5;28;01mif\u001b[39;00m \u001b[38;5;129;01mnot\u001b[39;00m no_val_X \u001b[38;5;129;01mand\u001b[39;00m check_params\u001b[38;5;241m.\u001b[39mget(\u001b[38;5;124m\"\u001b[39m\u001b[38;5;124mensure_2d\u001b[39m\u001b[38;5;124m\"\u001b[39m, \u001b[38;5;28;01mTrue\u001b[39;00m):\n\u001b[1;32m--> 588\u001b[0m     \u001b[38;5;28mself\u001b[39m\u001b[38;5;241m.\u001b[39m_check_n_features(X, reset\u001b[38;5;241m=\u001b[39mreset)\n\u001b[0;32m    590\u001b[0m \u001b[38;5;28;01mreturn\u001b[39;00m out\n",
      "File \u001b[1;32mC:\\Users\\Viraj\\anaconda3\\Lib\\site-packages\\sklearn\\base.py:389\u001b[0m, in \u001b[0;36mBaseEstimator._check_n_features\u001b[1;34m(self, X, reset)\u001b[0m\n\u001b[0;32m    386\u001b[0m     \u001b[38;5;28;01mreturn\u001b[39;00m\n\u001b[0;32m    388\u001b[0m \u001b[38;5;28;01mif\u001b[39;00m n_features \u001b[38;5;241m!=\u001b[39m \u001b[38;5;28mself\u001b[39m\u001b[38;5;241m.\u001b[39mn_features_in_:\n\u001b[1;32m--> 389\u001b[0m     \u001b[38;5;28;01mraise\u001b[39;00m \u001b[38;5;167;01mValueError\u001b[39;00m(\n\u001b[0;32m    390\u001b[0m         \u001b[38;5;124mf\u001b[39m\u001b[38;5;124m\"\u001b[39m\u001b[38;5;124mX has \u001b[39m\u001b[38;5;132;01m{\u001b[39;00mn_features\u001b[38;5;132;01m}\u001b[39;00m\u001b[38;5;124m features, but \u001b[39m\u001b[38;5;132;01m{\u001b[39;00m\u001b[38;5;28mself\u001b[39m\u001b[38;5;241m.\u001b[39m\u001b[38;5;18m__class__\u001b[39m\u001b[38;5;241m.\u001b[39m\u001b[38;5;18m__name__\u001b[39m\u001b[38;5;132;01m}\u001b[39;00m\u001b[38;5;124m \u001b[39m\u001b[38;5;124m\"\u001b[39m\n\u001b[0;32m    391\u001b[0m         \u001b[38;5;124mf\u001b[39m\u001b[38;5;124m\"\u001b[39m\u001b[38;5;124mis expecting \u001b[39m\u001b[38;5;132;01m{\u001b[39;00m\u001b[38;5;28mself\u001b[39m\u001b[38;5;241m.\u001b[39mn_features_in_\u001b[38;5;132;01m}\u001b[39;00m\u001b[38;5;124m features as input.\u001b[39m\u001b[38;5;124m\"\u001b[39m\n\u001b[0;32m    392\u001b[0m     )\n",
      "\u001b[1;31mValueError\u001b[0m: X has 38 features, but StandardScaler is expecting 247 features as input."
     ]
    }
   ],
   "source": [
    "from glob import glob\n",
    "import mne\n",
    "import numpy as np\n",
    "from sklearn.preprocessing import StandardScaler\n",
    "\n",
    "# Define a function to read data from .edf file and extract features\n",
    "def extract_features_from_edf(file_path):\n",
    "    # Read EEG data from the .edf file\n",
    "    data = mne.io.read_raw_edf(file_path, preload=True)\n",
    "    \n",
    "    # Preprocess the EEG data (e.g., reference, filtering)\n",
    "    data.set_eeg_reference()\n",
    "    data.filter(l_freq=0.5, h_freq=45)\n",
    "    \n",
    "    # Create epochs (fixed-length segments of EEG data)\n",
    "    epochs = mne.make_fixed_length_epochs(data, duration=5, overlap=1)\n",
    "    \n",
    "    # Extract EEG data as numpy array\n",
    "    array = epochs.get_data()\n",
    "    \n",
    "    # Define feature extraction functions\n",
    "    def extract_features(data):\n",
    "        # Define feature extraction process here\n",
    "        # For example, calculate mean and standard deviation along the time axis for each channel\n",
    "        mean = np.mean(data, axis=2)  # Calculate mean\n",
    "        std = np.std(data, axis=2)     # Calculate standard deviation\n",
    "        features = np.concatenate((mean, std), axis=1)  # Concatenate features\n",
    "        \n",
    "        return features\n",
    "    \n",
    "    # Extract features from EEG data\n",
    "    features = extract_features(array)\n",
    "    \n",
    "    return features\n",
    "\n",
    "# Define a function to predict mental disorder from features\n",
    "def predict_mental_disorder(features):\n",
    "    # Use the best estimator from GridSearchCV\n",
    "    best_estimator = model.best_estimator_\n",
    "    \n",
    "    # Predict labels for the input features\n",
    "    predictions = best_estimator.predict(features)\n",
    "    \n",
    "    # Map predictions to human-readable labels\n",
    "    prediction_labels = ['Healthy' if label == 0 else 'Schizophrenia' for label in predictions]\n",
    "    \n",
    "    return prediction_labels\n",
    "\n",
    "# Define a function to process .edf file and predict mental disorder\n",
    "def process_edf_and_predict(file_path):\n",
    "    # Extract features from the .edf file\n",
    "    features = extract_features_from_edf(file_path)\n",
    "    print(\"Shape of extracted features:\", features.shape)\n",
    "    \n",
    "    # Standardize the extracted features\n",
    "    sample_features_scaled = scaler.transform(features)\n",
    "    \n",
    "    # Predict mental disorder using the features\n",
    "    prediction_labels = predict_mental_disorder(sample_features_scaled)\n",
    "    \n",
    "    return prediction_labels, features\n",
    "\n",
    "# Example usage:\n",
    "# File path of the .edf file\n",
    "edf_file_path = \"data\\\\h01.edf\"\n",
    "\n",
    "# Process .edf file and predict mental disorder\n",
    "prediction_labels, input_features = process_edf_and_predict(edf_file_path)\n",
    "\n",
    "# Print the prediction labels and input features\n",
    "print(\"Prediction labels:\", prediction_labels)\n",
    "print(\"Input features:\", input_features)\n"
   ]
  },
  {
   "cell_type": "code",
   "execution_count": null,
   "id": "41fcf87a-5263-4446-b93d-ed0587e87964",
   "metadata": {},
   "outputs": [],
   "source": []
  }
 ],
 "metadata": {
  "kernelspec": {
   "display_name": "Python 3 (ipykernel)",
   "language": "python",
   "name": "python3"
  },
  "language_info": {
   "codemirror_mode": {
    "name": "ipython",
    "version": 3
   },
   "file_extension": ".py",
   "mimetype": "text/x-python",
   "name": "python",
   "nbconvert_exporter": "python",
   "pygments_lexer": "ipython3",
   "version": "3.11.5"
  }
 },
 "nbformat": 4,
 "nbformat_minor": 5
}
